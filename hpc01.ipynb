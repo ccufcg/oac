{
 "cells": [
  {
   "cell_type": "markdown",
   "metadata": {},
   "source": [
    "# Hipotetical Personal Computer (HPC)\n",
    "\n",
    "O HPC01 foi construido utilizando a arquitetura vista em sala de aula:\n",
    "\n",
    "![](imagens/s_arq.svg)\n",
    "\n",
    "\n",
    "O diagrama abaixo descreve os estados de um processador durante a execução de instruções.\n",
    "\n",
    "![](imagens/fluxo_c.svg)\n",
    "\n",
    "1. Busca da Instrução (Instruction Fetch): Nesse estágio, o processador busca a próxima instrução a ser executada na memória principal. Ele obtém o endereço da instrução e a carrega para o registrador de instrução.\n",
    "1. Decodificação do Operando (Operand Decode): Após obter a instrução, o processador a decodifica para entender qual operação deve ser realizada. Ele identifica os registradores envolvidos, o tipo de operação (aritmética, lógica, etc.) e os modos de endereçamento.\n",
    "1. Busca do Operando (Operand Fetch): Se a instrução requer dados de memória ou registradores, o processador busca esses operandos. Por exemplo, se a instrução for uma adição, ele buscará os valores dos registradores envolvidos.\n",
    "1. Cálculo do Endereço do Operando (Calculation of Operand Address): Se o operando estiver em memória, o processador calcula o endereço físico correspondente com base no modo de endereçamento. Isso pode envolver somar um deslocamento a um registrador-base ou aplicar outras transformações.\n",
    "1. Execução: Nesse estágio, a operação é efetivamente realizada. Por exemplo, se a instrução for uma adição, os valores dos operandos são somados.\n",
    "1. Armazenamento do Operando (Operand Storage): Se a instrução resultar em um valor que precisa ser armazenado (por exemplo, o resultado de uma operação), o processador atualiza os registradores ou a memória conforme necessário.\n",
    "\n",
    "O ciclo continua, com o processador buscando a próxima instrução após a conclusão da atual. \n",
    "\n",
    "\n"
   ]
  },
  {
   "cell_type": "markdown",
   "metadata": {},
   "source": [
    "## Instruções\n",
    "\n",
    "As instruções que o HPC01 executará residem na memória RAM do PC e em razão desse fato vamos criar o `fetch instructions` que recupera a isntrução da memória e incia o fluxo de processamento."
   ]
  },
  {
   "cell_type": "code",
   "execution_count": 1,
   "metadata": {},
   "outputs": [],
   "source": [
    "## recupera a informação da memória considerando o PC\n",
    "def fetch(pc,memory):                               \n",
    "    ir = memory[pc]                                 # le a instrucao e armazena do (ir)\n",
    "    pc = pc + 1                                     # incrementa o PC\n",
    "    return(ir >> 8, ir & 0xFF)                      # o que isso faz?"
   ]
  },
  {
   "cell_type": "markdown",
   "metadata": {},
   "source": [
    "O HPC01 suporta instruções de 12bits\n",
    "\n",
    "![](imagens/instrucao1_detalhe.svg)\n",
    "\n",
    "Desse modo vamos criar uma memória RAM com 16 endereços. Com as seguintes instruções"
   ]
  },
  {
   "cell_type": "code",
   "execution_count": 2,
   "metadata": {},
   "outputs": [],
   "source": [
    "mem = [0] * 16                                                      # Setup 16 enderecoes de memoria\n",
    "mem[0] = 0b000100001100                                             # primeira instrucao\n",
    "mem[1] = 0b001000000111                                             # segunda instacao\n",
    "mem[2] = 0b111100000000                                             # terceira instrucao\n",
    "mem[7] = 8                                                          # variavel"
   ]
  },
  {
   "cell_type": "markdown",
   "metadata": {},
   "source": [
    "observando a memória"
   ]
  },
  {
   "cell_type": "code",
   "execution_count": 3,
   "metadata": {},
   "outputs": [
    {
     "data": {
      "text/plain": [
       "[268, 519, 3840, 0, 0, 0, 0, 8, 0, 0, 0, 0, 0, 0, 0, 0]"
      ]
     },
     "execution_count": 3,
     "metadata": {},
     "output_type": "execute_result"
    }
   ],
   "source": [
    "mem"
   ]
  },
  {
   "cell_type": "markdown",
   "metadata": {},
   "source": [
    "insterpretando a memória"
   ]
  },
  {
   "cell_type": "code",
   "execution_count": 4,
   "metadata": {},
   "outputs": [
    {
     "name": "stdout",
     "output_type": "stream",
     "text": [
      "posicacao de memória #0 :\n",
      "\t - op code 0b1\n",
      "\t - valor em memória 0b1100\n",
      "posicacao de memória #1 :\n",
      "\t - op code 0b10\n",
      "\t - valor em memória 0b111\n",
      "posicacao de memória #2 :\n",
      "\t - op code 0b1111\n",
      "\t - valor em memória 0b0\n"
     ]
    }
   ],
   "source": [
    "for i in [0,1,2]:\n",
    "    print('posicacao de memória #{} :'.format(i))\n",
    "    opcode, address = fetch(i,mem)\n",
    "    print('\\t - op code {}'.format(bin(opcode)))\n",
    "    print('\\t - valor em memória {}'.format(bin(address)))"
   ]
  },
  {
   "cell_type": "markdown",
   "metadata": {},
   "source": [
    "## Decodificação e Execução das Instruções\n",
    "\n",
    "Nessa etapa vamos construir o HPC01 para dar suporte as 3 operações vistas em sala de aula, descritas na tabela abaixo.\n",
    "\n",
    "| OpCode | Instrução  | Parametro | Descrição |\n",
    "| :-: | :-:       | :-         | :-        |\n",
    "| 1111 | SHUTDOWN  | -        | Encerra a execução |\n",
    "| 0001 | LOAD      | inteiro 8bits        | Carrega o valor no registrador r0 |\n",
    "| 0010 | ADD      | inteiro 8bits        | Soma o valor do endereço de memória a r0 |\n"
   ]
  },
  {
   "cell_type": "markdown",
   "metadata": {},
   "source": [
    "primeiro PC e colocar pc na posição correta"
   ]
  },
  {
   "cell_type": "code",
   "execution_count": 5,
   "metadata": {},
   "outputs": [],
   "source": [
    "# inicializa o pc em 0\n",
    "pc = 0                                                              "
   ]
  },
  {
   "cell_type": "markdown",
   "metadata": {},
   "source": [
    "construindo o PC"
   ]
  },
  {
   "cell_type": "code",
   "execution_count": 6,
   "metadata": {},
   "outputs": [
    {
     "name": "stdout",
     "output_type": "stream",
     "text": [
      "pc =  0 opCode = 1 Valor regustrador r0 = 12\n",
      "pc =  1 opCode = 2 Valor regustrador r0 = 20\n",
      "pc =  2 opCode = 15 Valor regustrador r0 = 20\n"
     ]
    }
   ],
   "source": [
    "run = 1\n",
    "while run == 1:                                                     \n",
    "    # fecth da memoria\n",
    "    opCode, address = fetch(pc,mem)                                \n",
    "    # shutdown\n",
    "    if opCode == 0b1111: \n",
    "        run = 0                                    \n",
    "    # load\n",
    "    elif opCode == 0b0001:                                          \n",
    "        r0 = address                                                \n",
    "    # add\n",
    "    elif opCode == 0b0010:                                          \n",
    "        mar = address                                               \n",
    "        mbr = mem[mar]                                              \n",
    "        r0 = mbr + r0                                               \n",
    "    \n",
    "    # STATUS\n",
    "    print('pc = ',pc, 'opCode =', opCode, 'Valor regustrador r0 =',r0)\n",
    "    # busca das instrucoes\n",
    "    pc +=1\n"
   ]
  },
  {
   "cell_type": "markdown",
   "metadata": {},
   "source": [
    "comparando o código com o diagrama\n",
    "\n",
    "![](imagens/fluxo_c.svg)"
   ]
  }
 ],
 "metadata": {
  "kernelspec": {
   "display_name": "Python 3",
   "language": "python",
   "name": "python3"
  },
  "language_info": {
   "codemirror_mode": {
    "name": "ipython",
    "version": 3
   },
   "file_extension": ".py",
   "mimetype": "text/x-python",
   "name": "python",
   "nbconvert_exporter": "python",
   "pygments_lexer": "ipython3",
   "version": "3.12.5"
  }
 },
 "nbformat": 4,
 "nbformat_minor": 2
}
